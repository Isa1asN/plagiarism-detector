{
 "cells": [
  {
   "cell_type": "code",
   "execution_count": 1,
   "id": "2681c964",
   "metadata": {
    "_cell_guid": "b1076dfc-b9ad-4769-8c92-a6c4dae69d19",
    "_uuid": "8f2839f25d086af736a60e9eeb907d3b93b6e0e5",
    "execution": {
     "iopub.execute_input": "2025-01-16T19:09:51.363326Z",
     "iopub.status.busy": "2025-01-16T19:09:51.362947Z",
     "iopub.status.idle": "2025-01-16T19:09:52.303805Z",
     "shell.execute_reply": "2025-01-16T19:09:52.302382Z"
    },
    "papermill": {
     "duration": 0.949565,
     "end_time": "2025-01-16T19:09:52.305584",
     "exception": false,
     "start_time": "2025-01-16T19:09:51.356019",
     "status": "completed"
    },
    "tags": []
   },
   "outputs": [
    {
     "name": "stdout",
     "output_type": "stream",
     "text": [
      "/kaggle/input/stop-words/amstopwords.txt\n",
      "/kaggle/input/gpac-corpus/GPAC.txt\n"
     ]
    }
   ],
   "source": [
    "# This Python 3 environment comes with many helpful analytics libraries installed\n",
    "# It is defined by the kaggle/python Docker image: https://github.com/kaggle/docker-python\n",
    "# For example, here's several helpful packages to load\n",
    "\n",
    "import numpy as np # linear algebra\n",
    "import pandas as pd # data processing, CSV file I/O (e.g. pd.read_csv)\n",
    "\n",
    "# Input data files are available in the read-only \"../input/\" directory\n",
    "# For example, running this (by clicking run or pressing Shift+Enter) will list all files under the input directory\n",
    "\n",
    "import os\n",
    "for dirname, _, filenames in os.walk('/kaggle/input'):\n",
    "    for filename in filenames:\n",
    "        print(os.path.join(dirname, filename))\n",
    "\n",
    "# You can write up to 20GB to the current directory (/kaggle/working/) that gets preserved as output when you create a version using \"Save & Run All\" \n",
    "# You can also write temporary files to /kaggle/temp/, but they won't be saved outside of the current session"
   ]
  },
  {
   "cell_type": "markdown",
   "id": "7ed68134",
   "metadata": {
    "papermill": {
     "duration": 0.004659,
     "end_time": "2025-01-16T19:09:52.315532",
     "exception": false,
     "start_time": "2025-01-16T19:09:52.310873",
     "status": "completed"
    },
    "tags": []
   },
   "source": [
    "# Loading the data"
   ]
  },
  {
   "cell_type": "markdown",
   "id": "fbf00bb2",
   "metadata": {
    "papermill": {
     "duration": 0.00446,
     "end_time": "2025-01-16T19:09:52.324788",
     "exception": false,
     "start_time": "2025-01-16T19:09:52.320328",
     "status": "completed"
    },
    "tags": []
   },
   "source": [
    "### Load the stopwords"
   ]
  },
  {
   "cell_type": "code",
   "execution_count": 2,
   "id": "99bc64b5",
   "metadata": {
    "execution": {
     "iopub.execute_input": "2025-01-16T19:09:52.336008Z",
     "iopub.status.busy": "2025-01-16T19:09:52.335451Z",
     "iopub.status.idle": "2025-01-16T19:09:52.348398Z",
     "shell.execute_reply": "2025-01-16T19:09:52.347241Z"
    },
    "papermill": {
     "duration": 0.020616,
     "end_time": "2025-01-16T19:09:52.350172",
     "exception": false,
     "start_time": "2025-01-16T19:09:52.329556",
     "status": "completed"
    },
    "tags": []
   },
   "outputs": [
    {
     "data": {
      "text/plain": [
       "(['ፊት', '፣', '፤', 'ቤት', 'በ', 'ም', '፡', 'ዓ', 'የ', 'ሆኖ', 'አሉ', 'አንዱ'], 308)"
      ]
     },
     "execution_count": 2,
     "metadata": {},
     "output_type": "execute_result"
    }
   ],
   "source": [
    "stop_path = '/kaggle/input/stop-words/amstopwords.txt'\n",
    "with open(stop_path, 'r', encoding='utf-8') as file:\n",
    "    stopwords = file.read().splitlines()\n",
    "stopwords[-12:], len(stopwords)"
   ]
  },
  {
   "cell_type": "code",
   "execution_count": 3,
   "id": "b7f0bb19",
   "metadata": {
    "execution": {
     "iopub.execute_input": "2025-01-16T19:09:52.361654Z",
     "iopub.status.busy": "2025-01-16T19:09:52.361310Z",
     "iopub.status.idle": "2025-01-16T19:09:52.366505Z",
     "shell.execute_reply": "2025-01-16T19:09:52.365637Z"
    },
    "papermill": {
     "duration": 0.012619,
     "end_time": "2025-01-16T19:09:52.368029",
     "exception": false,
     "start_time": "2025-01-16T19:09:52.355410",
     "status": "completed"
    },
    "tags": []
   },
   "outputs": [
    {
     "data": {
      "text/plain": [
       "308"
      ]
     },
     "execution_count": 3,
     "metadata": {},
     "output_type": "execute_result"
    }
   ],
   "source": [
    "len(stopwords)"
   ]
  },
  {
   "cell_type": "markdown",
   "id": "37a6bb81",
   "metadata": {
    "papermill": {
     "duration": 0.004715,
     "end_time": "2025-01-16T19:09:52.377822",
     "exception": false,
     "start_time": "2025-01-16T19:09:52.373107",
     "status": "completed"
    },
    "tags": []
   },
   "source": [
    "### Load the text corpus"
   ]
  },
  {
   "cell_type": "code",
   "execution_count": 4,
   "id": "1da3cedd",
   "metadata": {
    "execution": {
     "iopub.execute_input": "2025-01-16T19:09:52.389208Z",
     "iopub.status.busy": "2025-01-16T19:09:52.388841Z",
     "iopub.status.idle": "2025-01-16T19:09:52.392730Z",
     "shell.execute_reply": "2025-01-16T19:09:52.391717Z"
    },
    "papermill": {
     "duration": 0.011479,
     "end_time": "2025-01-16T19:09:52.394357",
     "exception": false,
     "start_time": "2025-01-16T19:09:52.382878",
     "status": "completed"
    },
    "tags": []
   },
   "outputs": [],
   "source": [
    "import gc"
   ]
  },
  {
   "cell_type": "code",
   "execution_count": 5,
   "id": "aafd0002",
   "metadata": {
    "execution": {
     "iopub.execute_input": "2025-01-16T19:09:52.406104Z",
     "iopub.status.busy": "2025-01-16T19:09:52.405768Z",
     "iopub.status.idle": "2025-01-16T19:10:03.795562Z",
     "shell.execute_reply": "2025-01-16T19:10:03.794091Z"
    },
    "papermill": {
     "duration": 11.39781,
     "end_time": "2025-01-16T19:10:03.797506",
     "exception": false,
     "start_time": "2025-01-16T19:09:52.399696",
     "status": "completed"
    },
    "tags": []
   },
   "outputs": [
    {
     "name": "stdout",
     "output_type": "stream",
     "text": [
      "    ምን መሰላችሁ? (አንባቢያን) ኢትዮጵያ በተደጋጋሚ ጥሪው ደርሷት ልትታደመው ያልቻለችው የአለም የእግር ኳስ ዋ ለ19ኛ ጊዜ በደቡብ አፍሪካ ሲጠጣ፣ በሩቅ\n"
     ]
    }
   ],
   "source": [
    "passage_path = '/kaggle/input/gpac-corpus/GPAC.txt'\n",
    "\n",
    "with open(passage_path, 'r', encoding='utf-8') as file:\n",
    "    text_corpus = file.read()\n",
    "\n",
    "print(text_corpus[:100])"
   ]
  },
  {
   "cell_type": "markdown",
   "id": "61bc40b7",
   "metadata": {
    "papermill": {
     "duration": 0.004922,
     "end_time": "2025-01-16T19:10:03.807787",
     "exception": false,
     "start_time": "2025-01-16T19:10:03.802865",
     "status": "completed"
    },
    "tags": []
   },
   "source": [
    "# Pre-processing the text data"
   ]
  },
  {
   "cell_type": "markdown",
   "id": "471e93ca",
   "metadata": {
    "papermill": {
     "duration": 0.004826,
     "end_time": "2025-01-16T19:10:03.817901",
     "exception": false,
     "start_time": "2025-01-16T19:10:03.813075",
     "status": "completed"
    },
    "tags": []
   },
   "source": [
    "### Remove Stopwords"
   ]
  },
  {
   "cell_type": "code",
   "execution_count": 6,
   "id": "78991af8",
   "metadata": {
    "execution": {
     "iopub.execute_input": "2025-01-16T19:10:03.829514Z",
     "iopub.status.busy": "2025-01-16T19:10:03.829093Z",
     "iopub.status.idle": "2025-01-16T19:10:11.623175Z",
     "shell.execute_reply": "2025-01-16T19:10:11.622056Z"
    },
    "papermill": {
     "duration": 7.80205,
     "end_time": "2025-01-16T19:10:11.625101",
     "exception": false,
     "start_time": "2025-01-16T19:10:03.823051",
     "status": "completed"
    },
    "tags": []
   },
   "outputs": [
    {
     "data": {
      "text/plain": [
       "0"
      ]
     },
     "execution_count": 6,
     "metadata": {},
     "output_type": "execute_result"
    }
   ],
   "source": [
    "import re\n",
    "\n",
    "sentences = re.split(r'[።?]', text_corpus)\n",
    "sentences = [sentence.strip() for sentence in sentences if sentence.strip()]\n",
    "\n",
    "del text_corpus\n",
    "gc.collect()"
   ]
  },
  {
   "cell_type": "code",
   "execution_count": 7,
   "id": "47d15586",
   "metadata": {
    "execution": {
     "iopub.execute_input": "2025-01-16T19:10:11.637058Z",
     "iopub.status.busy": "2025-01-16T19:10:11.636723Z",
     "iopub.status.idle": "2025-01-16T19:10:11.641824Z",
     "shell.execute_reply": "2025-01-16T19:10:11.640877Z"
    },
    "papermill": {
     "duration": 0.012775,
     "end_time": "2025-01-16T19:10:11.643371",
     "exception": false,
     "start_time": "2025-01-16T19:10:11.630596",
     "status": "completed"
    },
    "tags": []
   },
   "outputs": [
    {
     "data": {
      "text/plain": [
       "'ምን መሰላችሁ'"
      ]
     },
     "execution_count": 7,
     "metadata": {},
     "output_type": "execute_result"
    }
   ],
   "source": [
    "sentences[0]"
   ]
  },
  {
   "cell_type": "code",
   "execution_count": 8,
   "id": "61c203df",
   "metadata": {
    "execution": {
     "iopub.execute_input": "2025-01-16T19:10:11.655438Z",
     "iopub.status.busy": "2025-01-16T19:10:11.655076Z",
     "iopub.status.idle": "2025-01-16T19:10:12.302038Z",
     "shell.execute_reply": "2025-01-16T19:10:12.300496Z"
    },
    "papermill": {
     "duration": 0.65638,
     "end_time": "2025-01-16T19:10:12.305075",
     "exception": false,
     "start_time": "2025-01-16T19:10:11.648695",
     "status": "completed"
    },
    "tags": []
   },
   "outputs": [],
   "source": [
    "sentences = [sentence.strip() for sentence in sentences if sentence.strip()]"
   ]
  },
  {
   "cell_type": "code",
   "execution_count": 9,
   "id": "487f7379",
   "metadata": {
    "execution": {
     "iopub.execute_input": "2025-01-16T19:10:12.320090Z",
     "iopub.status.busy": "2025-01-16T19:10:12.319734Z",
     "iopub.status.idle": "2025-01-16T19:10:12.324354Z",
     "shell.execute_reply": "2025-01-16T19:10:12.323406Z"
    },
    "papermill": {
     "duration": 0.012645,
     "end_time": "2025-01-16T19:10:12.326114",
     "exception": false,
     "start_time": "2025-01-16T19:10:12.313469",
     "status": "completed"
    },
    "tags": []
   },
   "outputs": [],
   "source": [
    "def remove_stopwords_from_sentence(sentence, stopwords):\n",
    "    words = sentence.split()\n",
    "    filtered_words = [word for word in words if word not in stopwords]\n",
    "    return \" \".join(filtered_words)"
   ]
  },
  {
   "cell_type": "code",
   "execution_count": 10,
   "id": "9fd49e9c",
   "metadata": {
    "execution": {
     "iopub.execute_input": "2025-01-16T19:10:12.338393Z",
     "iopub.status.busy": "2025-01-16T19:10:12.337930Z",
     "iopub.status.idle": "2025-01-16T19:16:21.900266Z",
     "shell.execute_reply": "2025-01-16T19:16:21.899071Z"
    },
    "papermill": {
     "duration": 369.575531,
     "end_time": "2025-01-16T19:16:21.907108",
     "exception": false,
     "start_time": "2025-01-16T19:10:12.331577",
     "status": "completed"
    },
    "tags": []
   },
   "outputs": [
    {
     "data": {
      "text/plain": [
       "0"
      ]
     },
     "execution_count": 10,
     "metadata": {},
     "output_type": "execute_result"
    }
   ],
   "source": [
    "# stop word removal\n",
    "filtered_sentences = [remove_stopwords_from_sentence(sentence, stopwords) for sentence in sentences]\n",
    "\n",
    "del sentences\n",
    "gc.collect()"
   ]
  },
  {
   "cell_type": "markdown",
   "id": "a6445f9f",
   "metadata": {
    "papermill": {
     "duration": 0.005069,
     "end_time": "2025-01-16T19:16:21.917711",
     "exception": false,
     "start_time": "2025-01-16T19:16:21.912642",
     "status": "completed"
    },
    "tags": []
   },
   "source": [
    "#### Remove characters"
   ]
  },
  {
   "cell_type": "code",
   "execution_count": 11,
   "id": "1eeffa02",
   "metadata": {
    "execution": {
     "iopub.execute_input": "2025-01-16T19:16:21.930406Z",
     "iopub.status.busy": "2025-01-16T19:16:21.930034Z",
     "iopub.status.idle": "2025-01-16T19:16:21.936707Z",
     "shell.execute_reply": "2025-01-16T19:16:21.935726Z"
    },
    "papermill": {
     "duration": 0.015401,
     "end_time": "2025-01-16T19:16:21.938439",
     "exception": false,
     "start_time": "2025-01-16T19:16:21.923038",
     "status": "completed"
    },
    "tags": []
   },
   "outputs": [],
   "source": [
    "def remove_characters(sentence, stopwords):\n",
    "    s = re.sub(r'[^\\w\\s]', ' ', sentence)\n",
    "    s = re.sub(r'\\s+', ' ', s).strip()\n",
    "    return s"
   ]
  },
  {
   "cell_type": "code",
   "execution_count": 12,
   "id": "50af7529",
   "metadata": {
    "execution": {
     "iopub.execute_input": "2025-01-16T19:16:21.950708Z",
     "iopub.status.busy": "2025-01-16T19:16:21.950394Z",
     "iopub.status.idle": "2025-01-16T19:16:21.956441Z",
     "shell.execute_reply": "2025-01-16T19:16:21.955362Z"
    },
    "papermill": {
     "duration": 0.014021,
     "end_time": "2025-01-16T19:16:21.958069",
     "exception": false,
     "start_time": "2025-01-16T19:16:21.944048",
     "status": "completed"
    },
    "tags": []
   },
   "outputs": [
    {
     "name": "stdout",
     "output_type": "stream",
     "text": [
      "Original Sentence: ይህ። ምሳሌ፣ ነው። ፡፡እንዴት፤ነህ?\n",
      "Cleaned Sentence: ይህ ምሳሌ ነው እንዴት ነህ\n"
     ]
    }
   ],
   "source": [
    "sen = \"ይህ። ምሳሌ፣ ነው። ፡፡እንዴት፤ነህ?\"\n",
    "\n",
    "c_s = remove_characters(sen, stopwords)\n",
    "\n",
    "print(\"Original Sentence:\", sen)\n",
    "print(\"Cleaned Sentence:\", c_s)"
   ]
  },
  {
   "cell_type": "code",
   "execution_count": 13,
   "id": "9714f4e8",
   "metadata": {
    "execution": {
     "iopub.execute_input": "2025-01-16T19:16:21.970649Z",
     "iopub.status.busy": "2025-01-16T19:16:21.970327Z",
     "iopub.status.idle": "2025-01-16T19:17:04.938822Z",
     "shell.execute_reply": "2025-01-16T19:17:04.937754Z"
    },
    "papermill": {
     "duration": 42.981774,
     "end_time": "2025-01-16T19:17:04.945501",
     "exception": false,
     "start_time": "2025-01-16T19:16:21.963727",
     "status": "completed"
    },
    "tags": []
   },
   "outputs": [
    {
     "data": {
      "text/plain": [
       "0"
      ]
     },
     "execution_count": 13,
     "metadata": {},
     "output_type": "execute_result"
    }
   ],
   "source": [
    "# characters removal\n",
    "filtered_sentences = [remove_characters(sentence, stopwords) for sentence in filtered_sentences]\n",
    "gc.collect()"
   ]
  },
  {
   "cell_type": "code",
   "execution_count": 14,
   "id": "a739f704",
   "metadata": {
    "execution": {
     "iopub.execute_input": "2025-01-16T19:17:04.958722Z",
     "iopub.status.busy": "2025-01-16T19:17:04.958356Z",
     "iopub.status.idle": "2025-01-16T19:17:04.964632Z",
     "shell.execute_reply": "2025-01-16T19:17:04.963710Z"
    },
    "papermill": {
     "duration": 0.01495,
     "end_time": "2025-01-16T19:17:04.966081",
     "exception": false,
     "start_time": "2025-01-16T19:17:04.951131",
     "status": "completed"
    },
    "tags": []
   },
   "outputs": [
    {
     "data": {
      "text/plain": [
       "'ቴዲአፍሮ የግጥም ዝንባሌና ችሎታ እንዳለው አምናለሁ'"
      ]
     },
     "execution_count": 14,
     "metadata": {},
     "output_type": "execute_result"
    }
   ],
   "source": [
    "filtered_sentences[10000]"
   ]
  },
  {
   "cell_type": "code",
   "execution_count": 15,
   "id": "82613a8c",
   "metadata": {
    "execution": {
     "iopub.execute_input": "2025-01-16T19:17:04.979106Z",
     "iopub.status.busy": "2025-01-16T19:17:04.978770Z",
     "iopub.status.idle": "2025-01-16T19:17:05.816313Z",
     "shell.execute_reply": "2025-01-16T19:17:05.815303Z"
    },
    "papermill": {
     "duration": 0.846432,
     "end_time": "2025-01-16T19:17:05.818220",
     "exception": false,
     "start_time": "2025-01-16T19:17:04.971788",
     "status": "completed"
    },
    "tags": []
   },
   "outputs": [],
   "source": [
    "# Number of sentences to group together\n",
    "n = 5\n",
    "\n",
    "documents = [\n",
    "    (i, \" \".join(filtered_sentences[i:i + n]))\n",
    "    for i in range(0, len(filtered_sentences), n)\n",
    "]"
   ]
  },
  {
   "cell_type": "code",
   "execution_count": 16,
   "id": "be533ede",
   "metadata": {
    "execution": {
     "iopub.execute_input": "2025-01-16T19:17:05.831197Z",
     "iopub.status.busy": "2025-01-16T19:17:05.830843Z",
     "iopub.status.idle": "2025-01-16T19:17:05.834614Z",
     "shell.execute_reply": "2025-01-16T19:17:05.833771Z"
    },
    "papermill": {
     "duration": 0.012113,
     "end_time": "2025-01-16T19:17:05.836252",
     "exception": false,
     "start_time": "2025-01-16T19:17:05.824139",
     "status": "completed"
    },
    "tags": []
   },
   "outputs": [],
   "source": [
    "import pandas as pd "
   ]
  },
  {
   "cell_type": "code",
   "execution_count": 17,
   "id": "38aef89d",
   "metadata": {
    "execution": {
     "iopub.execute_input": "2025-01-16T19:17:05.849314Z",
     "iopub.status.busy": "2025-01-16T19:17:05.848921Z",
     "iopub.status.idle": "2025-01-16T19:17:06.142067Z",
     "shell.execute_reply": "2025-01-16T19:17:06.140973Z"
    },
    "papermill": {
     "duration": 0.301492,
     "end_time": "2025-01-16T19:17:06.143875",
     "exception": false,
     "start_time": "2025-01-16T19:17:05.842383",
     "status": "completed"
    },
    "tags": []
   },
   "outputs": [],
   "source": [
    "document_df = pd.DataFrame(documents, columns=[\"document_id\", \"sentences\"])"
   ]
  },
  {
   "cell_type": "code",
   "execution_count": 18,
   "id": "70c3f8f2",
   "metadata": {
    "execution": {
     "iopub.execute_input": "2025-01-16T19:17:06.156833Z",
     "iopub.status.busy": "2025-01-16T19:17:06.156475Z",
     "iopub.status.idle": "2025-01-16T19:17:06.179331Z",
     "shell.execute_reply": "2025-01-16T19:17:06.178337Z"
    },
    "papermill": {
     "duration": 0.03146,
     "end_time": "2025-01-16T19:17:06.181262",
     "exception": false,
     "start_time": "2025-01-16T19:17:06.149802",
     "status": "completed"
    },
    "tags": []
   },
   "outputs": [
    {
     "data": {
      "text/html": [
       "<div>\n",
       "<style scoped>\n",
       "    .dataframe tbody tr th:only-of-type {\n",
       "        vertical-align: middle;\n",
       "    }\n",
       "\n",
       "    .dataframe tbody tr th {\n",
       "        vertical-align: top;\n",
       "    }\n",
       "\n",
       "    .dataframe thead th {\n",
       "        text-align: right;\n",
       "    }\n",
       "</style>\n",
       "<table border=\"1\" class=\"dataframe\">\n",
       "  <thead>\n",
       "    <tr style=\"text-align: right;\">\n",
       "      <th></th>\n",
       "      <th>document_id</th>\n",
       "      <th>sentences</th>\n",
       "    </tr>\n",
       "  </thead>\n",
       "  <tbody>\n",
       "    <tr>\n",
       "      <th>0</th>\n",
       "      <td>0</td>\n",
       "      <td>መሰላችሁ አንባቢያን በተደጋጋሚ ጥሪው ደርሷት ልትታደመው ያልቻለችው የአለ...</td>\n",
       "    </tr>\n",
       "    <tr>\n",
       "      <th>1</th>\n",
       "      <td>5</td>\n",
       "      <td>አይመስለኝም ሃኒ ከውድድሩ ውጭ የሆነችው የቢግ ብራዘርስ አብሮ የመኖር ው...</td>\n",
       "    </tr>\n",
       "    <tr>\n",
       "      <th>2</th>\n",
       "      <td>10</td>\n",
       "      <td>ይባላል የፈረንጅ ስምና የፈረንጅ መድሀኒት ያላቸው በሽታዎችም ይይዙን ጀመ...</td>\n",
       "    </tr>\n",
       "    <tr>\n",
       "      <th>3</th>\n",
       "      <td>15</td>\n",
       "      <td>ወይስ ኋኧረ ይስጡይ ባለ ንብረት እየነጠቀው ኋባይሆን ለጠንቋይ እሸጠዋለሁ...</td>\n",
       "    </tr>\n",
       "    <tr>\n",
       "      <th>4</th>\n",
       "      <td>20</td>\n",
       "      <td>አላቸው እና እሳቸው ኋእሱ እኛን የሆነው ወይስ ነን እሱን የሆንነው ወይስ...</td>\n",
       "    </tr>\n",
       "  </tbody>\n",
       "</table>\n",
       "</div>"
      ],
      "text/plain": [
       "   document_id                                          sentences\n",
       "0            0  መሰላችሁ አንባቢያን በተደጋጋሚ ጥሪው ደርሷት ልትታደመው ያልቻለችው የአለ...\n",
       "1            5  አይመስለኝም ሃኒ ከውድድሩ ውጭ የሆነችው የቢግ ብራዘርስ አብሮ የመኖር ው...\n",
       "2           10  ይባላል የፈረንጅ ስምና የፈረንጅ መድሀኒት ያላቸው በሽታዎችም ይይዙን ጀመ...\n",
       "3           15  ወይስ ኋኧረ ይስጡይ ባለ ንብረት እየነጠቀው ኋባይሆን ለጠንቋይ እሸጠዋለሁ...\n",
       "4           20  አላቸው እና እሳቸው ኋእሱ እኛን የሆነው ወይስ ነን እሱን የሆንነው ወይስ..."
      ]
     },
     "execution_count": 18,
     "metadata": {},
     "output_type": "execute_result"
    }
   ],
   "source": [
    "document_df.head()"
   ]
  },
  {
   "cell_type": "code",
   "execution_count": 19,
   "id": "c0f50446",
   "metadata": {
    "execution": {
     "iopub.execute_input": "2025-01-16T19:17:06.195523Z",
     "iopub.status.busy": "2025-01-16T19:17:06.195161Z",
     "iopub.status.idle": "2025-01-16T19:17:17.596135Z",
     "shell.execute_reply": "2025-01-16T19:17:17.595224Z"
    },
    "papermill": {
     "duration": 11.410343,
     "end_time": "2025-01-16T19:17:17.598048",
     "exception": false,
     "start_time": "2025-01-16T19:17:06.187705",
     "status": "completed"
    },
    "tags": []
   },
   "outputs": [],
   "source": [
    "import os\n",
    "\n",
    "output_dir = \"dataset_processed\"\n",
    "os.makedirs(output_dir, exist_ok=True)\n",
    "\n",
    "document_df.to_csv(os.path.join(output_dir, \"documents_processed.csv\"), index=False)"
   ]
  }
 ],
 "metadata": {
  "kaggle": {
   "accelerator": "none",
   "dataSources": [
    {
     "datasetId": 6133545,
     "sourceId": 9969947,
     "sourceType": "datasetVersion"
    },
    {
     "datasetId": 6133779,
     "sourceId": 9970235,
     "sourceType": "datasetVersion"
    }
   ],
   "dockerImageVersionId": 30839,
   "isGpuEnabled": false,
   "isInternetEnabled": false,
   "language": "python",
   "sourceType": "notebook"
  },
  "kernelspec": {
   "display_name": "Python 3",
   "language": "python",
   "name": "python3"
  },
  "language_info": {
   "codemirror_mode": {
    "name": "ipython",
    "version": 3
   },
   "file_extension": ".py",
   "mimetype": "text/x-python",
   "name": "python",
   "nbconvert_exporter": "python",
   "pygments_lexer": "ipython3",
   "version": "3.10.12"
  },
  "papermill": {
   "default_parameters": {},
   "duration": 450.156266,
   "end_time": "2025-01-16T19:17:18.828971",
   "environment_variables": {},
   "exception": null,
   "input_path": "__notebook__.ipynb",
   "output_path": "__notebook__.ipynb",
   "parameters": {},
   "start_time": "2025-01-16T19:09:48.672705",
   "version": "2.6.0"
  }
 },
 "nbformat": 4,
 "nbformat_minor": 5
}
