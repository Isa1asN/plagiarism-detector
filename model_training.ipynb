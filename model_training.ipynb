{
 "cells": [
  {
   "cell_type": "code",
   "execution_count": 1,
   "id": "8037fd06",
   "metadata": {
    "_cell_guid": "b1076dfc-b9ad-4769-8c92-a6c4dae69d19",
    "_uuid": "8f2839f25d086af736a60e9eeb907d3b93b6e0e5",
    "execution": {
     "iopub.execute_input": "2025-01-16T20:26:44.364264Z",
     "iopub.status.busy": "2025-01-16T20:26:44.363887Z",
     "iopub.status.idle": "2025-01-16T20:26:45.403262Z",
     "shell.execute_reply": "2025-01-16T20:26:45.401797Z"
    },
    "papermill": {
     "duration": 1.047145,
     "end_time": "2025-01-16T20:26:45.405301",
     "exception": false,
     "start_time": "2025-01-16T20:26:44.358156",
     "status": "completed"
    },
    "tags": []
   },
   "outputs": [
    {
     "name": "stdout",
     "output_type": "stream",
     "text": [
      "/kaggle/input/notebook32e0aa5c2c/__results__.html\n",
      "/kaggle/input/notebook32e0aa5c2c/__notebook__.ipynb\n",
      "/kaggle/input/notebook32e0aa5c2c/__output__.json\n",
      "/kaggle/input/notebook32e0aa5c2c/custom.css\n",
      "/kaggle/input/notebook32e0aa5c2c/dataset_processed/documents_processed.csv\n"
     ]
    }
   ],
   "source": [
    "# This Python 3 environment comes with many helpful analytics libraries installed\n",
    "# It is defined by the kaggle/python Docker image: https://github.com/kaggle/docker-python\n",
    "# For example, here's several helpful packages to load\n",
    "\n",
    "import numpy as np # linear algebra\n",
    "import pandas as pd # data processing, CSV file I/O (e.g. pd.read_csv)\n",
    "\n",
    "# Input data files are available in the read-only \"../input/\" directory\n",
    "# For example, running this (by clicking run or pressing Shift+Enter) will list all files under the input directory\n",
    "\n",
    "import os\n",
    "for dirname, _, filenames in os.walk('/kaggle/input'):\n",
    "    for filename in filenames:\n",
    "        print(os.path.join(dirname, filename))\n",
    "\n",
    "# You can write up to 20GB to the current directory (/kaggle/working/) that gets preserved as output when you create a version using \"Save & Run All\" \n",
    "# You can also write temporary files to /kaggle/temp/, but they won't be saved outside of the current session"
   ]
  },
  {
   "cell_type": "markdown",
   "id": "4ba2ccd6",
   "metadata": {
    "papermill": {
     "duration": 0.004076,
     "end_time": "2025-01-16T20:26:45.413900",
     "exception": false,
     "start_time": "2025-01-16T20:26:45.409824",
     "status": "completed"
    },
    "tags": []
   },
   "source": [
    "# Load the preprocessed data"
   ]
  },
  {
   "cell_type": "code",
   "execution_count": 2,
   "id": "cd08933e",
   "metadata": {
    "execution": {
     "iopub.execute_input": "2025-01-16T20:26:45.423266Z",
     "iopub.status.busy": "2025-01-16T20:26:45.422645Z",
     "iopub.status.idle": "2025-01-16T20:26:45.427296Z",
     "shell.execute_reply": "2025-01-16T20:26:45.426149Z"
    },
    "papermill": {
     "duration": 0.011197,
     "end_time": "2025-01-16T20:26:45.429086",
     "exception": false,
     "start_time": "2025-01-16T20:26:45.417889",
     "status": "completed"
    },
    "tags": []
   },
   "outputs": [],
   "source": [
    "import os\n",
    "import numpy as np\n",
    "import pandas as pd"
   ]
  },
  {
   "cell_type": "code",
   "execution_count": 3,
   "id": "100404aa",
   "metadata": {
    "execution": {
     "iopub.execute_input": "2025-01-16T20:26:45.438643Z",
     "iopub.status.busy": "2025-01-16T20:26:45.438302Z",
     "iopub.status.idle": "2025-01-16T20:27:11.453860Z",
     "shell.execute_reply": "2025-01-16T20:27:11.452753Z"
    },
    "papermill": {
     "duration": 26.022343,
     "end_time": "2025-01-16T20:27:11.455610",
     "exception": false,
     "start_time": "2025-01-16T20:26:45.433267",
     "status": "completed"
    },
    "tags": []
   },
   "outputs": [
    {
     "data": {
      "text/html": [
       "<div>\n",
       "<style scoped>\n",
       "    .dataframe tbody tr th:only-of-type {\n",
       "        vertical-align: middle;\n",
       "    }\n",
       "\n",
       "    .dataframe tbody tr th {\n",
       "        vertical-align: top;\n",
       "    }\n",
       "\n",
       "    .dataframe thead th {\n",
       "        text-align: right;\n",
       "    }\n",
       "</style>\n",
       "<table border=\"1\" class=\"dataframe\">\n",
       "  <thead>\n",
       "    <tr style=\"text-align: right;\">\n",
       "      <th></th>\n",
       "      <th>document_id</th>\n",
       "      <th>sentences</th>\n",
       "    </tr>\n",
       "  </thead>\n",
       "  <tbody>\n",
       "    <tr>\n",
       "      <th>0</th>\n",
       "      <td>0</td>\n",
       "      <td>መሰላችሁ አንባቢያን በተደጋጋሚ ጥሪው ደርሷት ልትታደመው ያልቻለችው የአለ...</td>\n",
       "    </tr>\n",
       "    <tr>\n",
       "      <th>1</th>\n",
       "      <td>5</td>\n",
       "      <td>አይመስለኝም ሃኒ ከውድድሩ ውጭ የሆነችው የቢግ ብራዘርስ አብሮ የመኖር ው...</td>\n",
       "    </tr>\n",
       "    <tr>\n",
       "      <th>2</th>\n",
       "      <td>10</td>\n",
       "      <td>ይባላል የፈረንጅ ስምና የፈረንጅ መድሀኒት ያላቸው በሽታዎችም ይይዙን ጀመ...</td>\n",
       "    </tr>\n",
       "    <tr>\n",
       "      <th>3</th>\n",
       "      <td>15</td>\n",
       "      <td>ወይስ ኋኧረ ይስጡይ ባለ ንብረት እየነጠቀው ኋባይሆን ለጠንቋይ እሸጠዋለሁ...</td>\n",
       "    </tr>\n",
       "    <tr>\n",
       "      <th>4</th>\n",
       "      <td>20</td>\n",
       "      <td>አላቸው እና እሳቸው ኋእሱ እኛን የሆነው ወይስ ነን እሱን የሆንነው ወይስ...</td>\n",
       "    </tr>\n",
       "  </tbody>\n",
       "</table>\n",
       "</div>"
      ],
      "text/plain": [
       "   document_id                                          sentences\n",
       "0            0  መሰላችሁ አንባቢያን በተደጋጋሚ ጥሪው ደርሷት ልትታደመው ያልቻለችው የአለ...\n",
       "1            5  አይመስለኝም ሃኒ ከውድድሩ ውጭ የሆነችው የቢግ ብራዘርስ አብሮ የመኖር ው...\n",
       "2           10  ይባላል የፈረንጅ ስምና የፈረንጅ መድሀኒት ያላቸው በሽታዎችም ይይዙን ጀመ...\n",
       "3           15  ወይስ ኋኧረ ይስጡይ ባለ ንብረት እየነጠቀው ኋባይሆን ለጠንቋይ እሸጠዋለሁ...\n",
       "4           20  አላቸው እና እሳቸው ኋእሱ እኛን የሆነው ወይስ ነን እሱን የሆንነው ወይስ..."
      ]
     },
     "execution_count": 3,
     "metadata": {},
     "output_type": "execute_result"
    }
   ],
   "source": [
    "documents = pd.read_csv('/kaggle/input/notebook32e0aa5c2c/dataset_processed/documents_processed.csv')\n",
    "documents.head ()"
   ]
  },
  {
   "cell_type": "markdown",
   "id": "0ac35c9f",
   "metadata": {
    "papermill": {
     "duration": 0.003848,
     "end_time": "2025-01-16T20:27:11.463818",
     "exception": false,
     "start_time": "2025-01-16T20:27:11.459970",
     "status": "completed"
    },
    "tags": []
   },
   "source": [
    "# Convert the data to TaggedDocuments for Doc2Vec"
   ]
  },
  {
   "cell_type": "code",
   "execution_count": 4,
   "id": "97c96f91",
   "metadata": {
    "execution": {
     "iopub.execute_input": "2025-01-16T20:27:11.473235Z",
     "iopub.status.busy": "2025-01-16T20:27:11.472835Z",
     "iopub.status.idle": "2025-01-16T20:27:29.305182Z",
     "shell.execute_reply": "2025-01-16T20:27:29.303612Z"
    },
    "papermill": {
     "duration": 17.839982,
     "end_time": "2025-01-16T20:27:29.307903",
     "exception": false,
     "start_time": "2025-01-16T20:27:11.467921",
     "status": "completed"
    },
    "tags": []
   },
   "outputs": [],
   "source": [
    "from gensim.models.doc2vec import TaggedDocument"
   ]
  },
  {
   "cell_type": "code",
   "execution_count": 5,
   "id": "6ca6c656",
   "metadata": {
    "execution": {
     "iopub.execute_input": "2025-01-16T20:27:29.320337Z",
     "iopub.status.busy": "2025-01-16T20:27:29.319667Z",
     "iopub.status.idle": "2025-01-16T20:28:30.467062Z",
     "shell.execute_reply": "2025-01-16T20:28:30.465847Z"
    },
    "papermill": {
     "duration": 61.154726,
     "end_time": "2025-01-16T20:28:30.469279",
     "exception": false,
     "start_time": "2025-01-16T20:27:29.314553",
     "status": "completed"
    },
    "tags": []
   },
   "outputs": [],
   "source": [
    "tagged_documents = []\n",
    "for index, row in documents.iterrows ():\n",
    "    tagged_document = TaggedDocument (words = row['sentences'].split (\" \"), tags = [row['document_id']])\n",
    "    tagged_documents.append (tagged_document)"
   ]
  },
  {
   "cell_type": "code",
   "execution_count": 6,
   "id": "42ce8df4",
   "metadata": {
    "execution": {
     "iopub.execute_input": "2025-01-16T20:28:30.479354Z",
     "iopub.status.busy": "2025-01-16T20:28:30.478975Z",
     "iopub.status.idle": "2025-01-16T20:28:30.484786Z",
     "shell.execute_reply": "2025-01-16T20:28:30.483729Z"
    },
    "papermill": {
     "duration": 0.012868,
     "end_time": "2025-01-16T20:28:30.486507",
     "exception": false,
     "start_time": "2025-01-16T20:28:30.473639",
     "status": "completed"
    },
    "tags": []
   },
   "outputs": [
    {
     "data": {
      "text/plain": [
       "699085"
      ]
     },
     "execution_count": 6,
     "metadata": {},
     "output_type": "execute_result"
    }
   ],
   "source": [
    "len(tagged_documents)"
   ]
  },
  {
   "cell_type": "code",
   "execution_count": 7,
   "id": "f89bfbc8",
   "metadata": {
    "execution": {
     "iopub.execute_input": "2025-01-16T20:28:30.496521Z",
     "iopub.status.busy": "2025-01-16T20:28:30.496154Z",
     "iopub.status.idle": "2025-01-16T20:28:30.502844Z",
     "shell.execute_reply": "2025-01-16T20:28:30.501798Z"
    },
    "papermill": {
     "duration": 0.01354,
     "end_time": "2025-01-16T20:28:30.504472",
     "exception": false,
     "start_time": "2025-01-16T20:28:30.490932",
     "status": "completed"
    },
    "tags": []
   },
   "outputs": [
    {
     "data": {
      "text/plain": [
       "TaggedDocument(words=['አሰበ', 'ሊፈርድ', 'ነው', 'መለሰለት', 'ያ', 'ድምጽ', 'በማን', 'አሰበ', 'ባንተ', 'መለሰ', 'ድምፁ', 'ትንሹ', 'ቆይቶ', 'ሰአቱ', 'ደርሶአል', 'አለው', 'ፈልጐ', 'ሳይፈልግ', 'ሜዳው', 'አመራ', 'ሜዳው', 'መሃል', 'ከአጃቢዎቹ', 'ቆመ', 'የሁሉም', 'አይን', 'የተተከለው', 'ነበር', 'ያናግርሃል', 'ያ', 'ድምጽ', 'ደቂቃዎች', 'አለፉ', 'ህዝቡ', 'እየተንጫጫ', 'ነበር', 'ድንገት', 'ሰማዩ', 'በአንድ', 'ታይቶ', 'በማይታወቅ', 'እጅግ', 'ልዩ', 'የሆነ', 'ብርሃን', 'ተደበላለቀ', 'ሁሉም', 'ፀጥ', 'እረጭ', 'አለ', 'በፍርሃት', 'ተርበድብዶ', 'ሳይወድ', 'በግዱ', 'መሬቱ', 'በግንባሩ', 'ተደፋ', 'አይኑ', 'ማየት', 'አዕምሮውም', 'ማሰብ', 'አልቻለም', 'ያየው', 'ብርሃን', 'በሱ', 'የማሰብ', 'አቅም', 'የሚታሰብ', 'አልነበረም', 'ያየኸው', 'ፈጣሪን', 'የከበበውን', 'ብርሃን', 'ነው', 'ፈጣሪን', 'አላየውም', 'አለው', 'ያ', 'ድምጽ', 'በግንባሩ', 'እንደተደፋ', 'ነው', 'ለዚህ', 'ላየው', 'ግርማ', 'ብርሃን', 'ለዝንተ', 'አለም', 'በግንባሩ', 'ቢደፋ', 'እንደማይጠላ', 'በድንገት', 'ታሰበው', 'ምንነቱን', 'መግለጽ', 'የማይቻል', 'እጅግ', 'ውብ', 'ግርማ', 'ያለውና', 'እፎይታ', 'የሚሰጥ', 'ድምጽ', 'ሰማ', 'ቃላቶቹ', 'አይሰሙም', 'እንደፈለገ', 'ይገባል', 'ጉዳይህን', 'እናያለን', 'የሚል', 'ይመስላል', 'ሰው', 'ይሁን', 'መልአክት', 'የማይታወቅ', 'ጮክ', 'ሰማው', 'ጌታ', 'ሆይ', 'ሁሉን', 'ቻይና', 'ሁሉን', 'አዋቂ', 'ነህ', 'ሰው', 'አንተን', 'ደፍሮአል', 'ያንተን', 'የሚጠሩ', 'ሰዎችን', 'አምርሮ', 'ይጠላ', 'ነበር', 'ላንተ', 'አልፆምምና', 'አልሰግድም', 'አምጿል', 'እንደፈለገው', 'ስላልኖረ', 'አንተን', 'ፍትህ', 'የለህም', 'ተሳድቧል', 'በህይወት', 'ዘመኑ', 'ያንተ', 'ጠላት', 'ኖሯል', 'ስለዚህ', 'ሰው', 'የሳጥናኤልና', 'የፈርኦን', 'ባልደረባ', 'ነው', 'ቦታውም', 'ከነሱ', 'ጥልቁ', 'የገሃነም', 'እሳት', 'እቶን', 'ነው', 'በርግጥ', 'ሰው', 'ገሃነምም', 'ያንሰዋል', 'ተናገረ', 'ህዝቡ', 'በደስታ', 'አጨበጨበ', 'ከብዙ', 'ጫጫታ', 'ፀጥታ', 'ነገሰና', 'በቁጣ', 'የነደደ', 'ድምጽ', 'እንዲህ', 'ተናገረ', 'ጨካኝና', 'መጥፎ', 'ሰዎችን', 'አይተናል', 'ሰው', 'ከነሂትለርም', 'ከነሞሶሎኒም', 'የባሰ', 'ነው', 'አቅም', 'ስለአጣ', 'ከነሱ', 'የባሰ', 'ህዝብ', 'ከመፍጀት', 'አይመለስም', 'ነበር', 'እነሱ', 'እንኳን', 'በግልጽ', 'ያንተን', 'የሚጠሩትን', 'ሰዎች', 'አልጠሉም', 'ሰው', 'ብርቱዎችና', 'ሃይለኞች', 'ነን', 'ባዮች', 'የሚቃጠሉበት', 'ገሃነም', 'መወርወር', 'አለበት', 'ተናገረ', 'አሁንም', 'የህዝቡ', 'ጩኸት', 'አስተጋባ', 'አንተስ', 'ትላለህ', 'ያ', 'ባለ', 'ግርማ', 'ድምጽ', 'የአዛኞች', 'አዛኝ', 'የሆንከው', 'ጌታ', 'የምለውን', 'እየተንቀጠቀጠ', 'አይዞህ', 'ያ', 'ድምጽ', 'ድንገት', 'ሁሉም', 'ፀጥ', 'አለ', 'ህዝቡም', 'መላእክቱም', 'ፀጥ', 'እረጭ', 'አሉ', 'በርግጥ', 'ያንተ', 'አይደለም', 'ያንተ', 'ከዚህ', 'ሰባት', 'ደረጃ', 'የሚበልጥ', 'እፁብ', 'ድንቅ', 'የሆነ', 'ነው', 'ከኔ', 'ትኖራለህ', 'የኔን', 'የሚጠሩትን', 'ሰዎች', 'ትጠላ', 'የነበርከው', 'ትቀና', 'ስለነበር', 'ነው', 'አምላክህ', 'ያንተ', 'የብቻህ', 'እንድሆን', 'ትፈልግ', 'ስለነበር', 'ሌላው', 'ሰዎቹ', 'ከሚሰሩት', 'ስራ', 'እኔን', 'መጥራት', 'አይገባቸውም', 'ስለምታስብ', 'ነበር', 'አልሰግድምና', 'አልፆምም', 'ያልከው', 'ከኔ', 'ከአባትህ', 'ትክክለኛውን', 'ድርሻህን', 'ፈልገህ', 'ስላጣህ', 'ነበር', 'እኔን', 'አባት', 'እራስህን', 'ልጅ', 'አይተህ', 'ስላኮረፍክ', 'ነበር', 'ፍትሃዊ', 'አምላክ', 'ነኝ', 'ብትጐዳም', 'ያዘጋጀሁልህን', 'አታውቅም', 'ያ', 'ድምጽ', 'የሚሰማውን', 'ማመን', 'አቅቶት', 'በግንባሩ', 'እንደተደፋ', 'በደስታ', 'አነባ', 'ህዝቡም', 'መላዕክቱም', 'ተንጫጩ', 'ልብና', 'ኩላሊት', 'የምትመረምር', 'አምላክ', 'ነህ', 'ትክክለኛ', 'ፍርድም', 'ያንተ', 'ተናገሩ', 'ከዚያ', 'ወዲያ', 'አትፍረድ', 'ይፈረድብሃል', 'የሚለው', 'አንቀጽ', 'ቅድስ', 'መጽሐፍ', 'እንዲጻፍ', 'የተወሰነው', 'ተረት', 'የታሪክን', 'ያህል', 'ልቦናን', 'በሚመስጥበት', 'አገር', 'እንዲህ', 'ዓይነት', 'መሐፍት', 'ለደራሲያኑ', 'የገቢ', 'መስክ', 'ስለሚፈጥሩ', 'ተመሳሳይ', 'መሐፍት', 'ወደፊትም', 'እንደሚወጡ', 'እንጠብቃለን', 'የዚህ', 'ሑፌ', 'አላማ', 'መሐፉን', 'ለመተቸት', 'እውነቱን', 'ለመናገር', 'ባስብ', 'እንኳን', 'እውቀቱ', 'የለኝም', 'ለመሐፉ', 'መነሻ', 'የሆነውን', 'የኖህ', 'ዘመን', 'ትረካ', 'እውነታነት', 'ከተለያዩ', 'ወገኖች', 'ከቀረቡት', 'እጅግ', 'ጥያቄዎች', 'ጥቂቱን', 'አንስቶ', 'ለመወያየት', 'ነው', 'በዘፍጥረት', 'የተተረከውን', 'የኖህ', 'ዘመን', 'የጥፋት', 'ውሃ', 'የሚያነቡ', 'አማኞች', 'ትረካውን', 'እውነተኛ', 'የታሪክ', 'ዘገባ', 'እንደሚቆጥሩት', 'ይታወቃል', 'ትረካ', 'ከመጀመሪያ', 'መጨረሻ', 'መቶ', 'በመቶ', 'በተዓምራት', 'የተሞላ', 'ካልሆነ', 'በቀር', 'በገሃዱ', 'ዓለም', 'የተከናወነ', 'ለማሰብ', 'አስቸጋሪ', 'እንዳሉት', 'የሚጠረጥሩ', 'ጥቂቶች', 'ናቸው', 'መጠነኛ', 'የጂኦሎጂ', 'የባዮሎጂ', 'የሃይድሮሎጂ', 'የቴክኖሎጂ', 'የጥንቱ', 'ዘመን', 'ታሪክ', 'እውቀት', 'ሰው', 'ትረካ', 'እውነት', 'ለመቀበል', 'ከፍተኛ', 'የእምነት', 'ናትና', 'የነባራዊውን', 'ዓለም', 'ህግጋት', 'መካድን', 'ይጠይቃል', 'ላዩን', 'ሲያገቡት', 'ቀላልና', 'ተራ', 'የሚመስሉ', 'በትረካው', 'የተካተቱ', 'ድርጊቶች', 'ጠለቅ', 'ብለው', 'ሲያዩአቸው', 'በእውነት', 'የተከናወኑ', 'መሆናቸውን', 'መቀበል', 'ያዳግታል', 'ከዛሬ', 'ሁለት', 'መቶ', 'ዓመት', 'ባዮሎጂና', 'ጂኦሎጂ', 'ዓይነት', 'የጥናት', 'ዘርፎች', 'ዳዴ', 'በሚሉበት', 'ዘመን', 'የኖህ', 'ዓይነት', 'ትረካዎች', 'እውነት', 'ቢቆጠሩ', 'የሚያስገርም', 'አይኖረው', 'ይሆናል', 'በአሁኑ', 'ዘመን', 'በነዚህ', 'የጥናት', 'ዘርፎች', 'በተደረሰበት', 'የእውቀት', 'መጠን', 'የኖህ', 'ትረካ', 'ሲለካ', 'ቀደምት', 'ህዝቦች', 'ከሚፏቸው', 'ትረካዎች', 'አድርጐ', 'ከመውሰድ', 'በእውነት', 'የተከናወነ', 'አድርጐ', 'ማሰብ', 'ከየዋህነት', 'ያስቆጥራል', 'የመሐፍ', 'ቅዱስ', 'የጥንቱ', 'የመካከለኛው', 'ምስራቅ', 'ጥናት', 'ጠበብት', 'የኖህ', 'ትረካ', 'አፈ', 'ታሪክ', 'ምንጩም', 'ከሜሶፖታሚያውያን', 'የጐርፍ', 'ትረካ', 'እንደሆነ', 'ይታመናል', 'ከነዚህ', 'ትረካዎች', 'የጊልጋሜሽ', 'ትረካ', 'ጉዳይ', 'ዙሪያ', 'በዚሁ', 'ጋዜጣ', 'የተባለ', 'ስላለ', 'ላለመደጋገም', 'አልፈቀድኩም', 'ሌላው', 'የኖህ', 'ታሪክ', 'መነሻ', 'ሊሆን', 'ይችላል', 'ተብሎ', 'የሚገመተው', 'የጥንት', 'ግብፃውያን', 'የተባለው', 'ትረካ', 'ነው', 'ትረካ', 'መሰረት', 'ራ', 'የተባለው', 'የግብፃውያን', 'አምላክ', 'በሰዎች', 'ጥፋትና', 'ድፍረት', 'በመናደዱ', 'ሀቶር', 'የተባለች', 'አምላክ', 'ልኮ', 'ዓለምን', 'በሙሉ', 'ለማጥፋት', 'ይወስናል', 'ሀቶር', 'የሰው', 'ልጆችን', 'በመፍጀት', 'ሳለች', 'ራ', 'መልሶ', 'ስለራራ', 'ሀቶርን', 'ከጥፋቷ', 'ያስቆማታል', 'የኖህንም', 'ሌሎቹን', 'ታሪኮች', 'የሚያስተሳስራቸው', 'ሁሉም', 'የሰው', 'ልጆችን', 'አጥፊነትና', 'የአምላክን', 'መሃሪነት', 'ለመግለ', 'የተፈጠሩ', 'ስነ', 'መለኮታዊ', 'ይዘት', 'ያላቸው', 'ትረካዎች', 'መሆናቸው', 'ነው', 'ለጭውውት', 'ይመቸን', 'ዘንድ', 'የኖህን', 'ትረካ', 'በትክክል', 'የተከናወነ', 'ታሪክ', 'እንደሆነ', 'አድርገን', 'እንቁጠር', 'ከዚያም', 'ከታሪኩ', 'አንዳንድ', 'ሃሳቦችን', 'እያነሳን', 'ያህል', 'እውነታነት', 'ሊኖራቸው', 'እንደሚችል', 'እንመርምር', 'ቴክኖሎጂና', 'የሎጂስቲክስ', 'በመጀመሪያ', 'ደረጃ', 'ፍጥረትን', 'በውሃ', 'ሙላት', 'መፍጀት', 'ተገቢ', 'ወይስ', 'የሚል', 'ጥያቄ', 'ሊነሳ', 'ይችላል', 'በጥፋት', 'ውሃው', 'ከወደሙት', 'አብዛኞቹ', 'ህፃናት', 'ሊሆኑ', 'እንደሚችሉ', 'መገመት', 'ይቻላል', 'ጉዳይ', 'የአማኞች', 'መልስ', 'በአብዛኛው', 'የሚበጀውን', 'ያውቃል', 'ሸክላ', 'ሰሪው', 'ሸክላውን', 'እንዳሻ', 'ቢያደርገው', 'ከልካይ', 'አለበት', 'ዓይነት', 'ነው', 'እንደሚባለው', 'ጥያቄውን', 'ትተን', 'ክንውኑ', 'ስናልፍ', 'የኖህ', 'ሊሆን', 'የሚችለው', 'መርከቧን', 'መገንባቱ', 'ነው', 'መርከቧ', 'የተገነባችው', 'ከእንጨት', 'እንደሆነ', 'ተገልል', 'መርከብ', 'መስራት', 'እንጨትን', 'በአንድ', 'ሰብስቦ', 'ከማሰር', 'ባሻገር', 'ነቶችን', 'ተሸክሞ', 'ከፍተኛ', 'የማዕበል', 'ጫናን', 'እንዲቋቋም', 'ማድረግን', 'ይጠይቃል', 'ኖህ', 'የገጠመውን', 'ዓይነት', 'ክስተት', 'ለመቋቋም', 'ከእንጨት', 'የተሰራ', 'መርከብ', 'እንደማይሆን', 'የመርከብ', 'ስራ', 'ጥበብ', 'በግል', 'ያሳያል', 'የተጠራጠረ', 'መረጃ', 'አገላብጦ', 'ያጣራ', 'በአሁኑ', 'ዘመን', 'ሊባል', 'የሚችለው', 'ከእንጨት', 'የተሰራ', 'መርከብ', 'ርዝመቱ', '300', 'ጫማ', 'ይጠጋል', 'በዚያ', 'እነዚህ', 'መርከቦች', 'በብረት', 'ቀበቶ', 'መጠናከር', 'ሲኖርባቸው', 'ውሃ', 'ስለሚያስገቡ', 'ያለማቋረጥ', 'ውሃውን', 'ማስወገድ', 'ማድረግ', 'ያስፈልጋል', 'የኖህ', 'መርከብን', 'ብንመለከት', 'በአሁኑ', 'ዘመን', 'አለካክ', 'ርዝመቷ', '450', 'ጫማ', 'ጥልቀቷ', '45', 'ጫማ', 'ጐኗ', '70', 'እንደሆነ', 'ተጠቅሷል', 'ዘፍጥረት', '6', '15', 'የመርከቧ', 'መጠን', 'በአሁኑ', 'ዘመን', 'በከፍተኛ', 'ቴክኖሎጂ', 'ከሚሰሩት', 'የነዳጅ', 'ጫኝ', 'መርከብ', 'ግማሽ', 'ይሆናል', 'በመርከብ', 'ስራው', 'ከኖህ', 'ቤተሰቦች', 'በቀር', 'የተሳተፈ', 'ስለመኖሩ', 'የተገለፀ', 'የለም', 'አራት', 'ወንዶችና', 'አራት', 'ሴቶች', 'ያሉት', 'ስምንት', 'አባላትን', 'ያቀፈ', 'ቤተሰብ', 'መርከቧን', 'ለመስራት', 'ያህል', 'አስቸጋሪ', 'እንደሚገጥመው', 'መገመት', 'አዳጋች', 'አይሆንም', 'በዚያ', 'ዘመኑ', 'ብረት', 'ስራ', 'ያልዋለበት', 'የነሃስ', 'ዘመን', 'መሆኑን', 'መርሳት', 'የለብንም', 'በመሆኑም', 'ጠቅላላው', 'ቤተሰብ', 'ሌላውን', 'እርግፍ', 'አድርጐ', 'ትቶ', 'ሌት', 'ተቀን', 'በመርከብ', 'ስራው', 'ቢሰማራ', 'እንኳን', 'መርከቧን', 'ሰርቶ', 'ለማጠናቀቅ', 'የሚፈጀውን', 'መገመት', 'ያግዳግታል', 'ኖህና', 'ቤተሰቦቹ', 'ዘመን', 'ስለኖሩ', 'የጊዜ', 'አይገጥማቸውም', 'ብለን', 'ብናስብ', 'እንኳን', 'አንዱን', 'ሰርተው', 'ሌላኛው', 'ሲሻገሩ', 'ከጊዜ', 'የቀደመው', 'ሊበሰብስ', 'ይችላል', 'በአጠቃላይ', 'የመርከብ', 'ስራው', 'ፕሮጀክት', 'የማያስኬድ', 'እንደሆነ', 'መገመት', 'አያዳግትም', 'እንስሳትን', 'ማሰባሰብና', 'መጠበቅ', 'በአሁኑ', 'በምድር', 'እንስሳት', 'በሙሉ', 'ከኖህ', 'የተረፉ', 'እንስሳት', 'ቀጣይ', 'ትውልዶች', 'እንደሆኑ', 'ከታሪኩ', 'መገንዘብ', 'ይቻላል', 'ታሪኩ', 'እውነት', 'ኖህ', 'እነዚህን', 'የእንስሳት', 'ዝርያ', 'ከየመኖሪያ', 'አካባቢያቸው', 'ዞሮ', 'መሰብሰብ', 'ሊኖርበት', 'ነው', 'አለበለዚያ', 'የተለመደውን', 'የተዓምር', 'ስራ', 'ልንጠራ', 'ነው', 'የዋልታ', 'ድቦችን', 'ከሰሜን', 'ዋልታ', 'ፔንግዊንስ', 'ከአንታርክቲካ', 'የማርሱፒያል', 'ዝርያዎችን', 'ከአውስትራሊያ', 'ማሰባሰብ', 'አለበት', 'ሌሎችም', 'እንዲሁ', 'ከተወሰነ', 'የዓለም', 'ውጭ', 'ሊኖሩ', 'የማይችሉ', 'የእንስሳት', 'ዝርያዎች', 'አሉ', 'በዘመኑ', 'የመጓጓዣ', 'ዘዴ', 'ውቅያኖስ', 'ተሻግሮ', 'ደን', 'አቆራርጦ', 'እንስሳቶችን', 'ማሰባሰብ', 'ያህል', 'ሊከብድ', 'እንደሚችል', 'አስቡት', 'እርስ', 'በርስ', 'የሚበላሉ', 'እንስሳትን', 'ለመከላከል', 'የራሱ', 'ማስቀመጫ', 'ያስፈልገዋል', 'ከእንስሳቶች', 'ዝርያ', 'አንፃር', 'ሳይተፋፈጉ', 'ከዓመት', 'በመርከቧ', 'ማቆየት', 'የማይታሰብ', 'ነው', 'በዚያ', 'ለኖህ', 'ቤተሰብና', 'ለእንስሳቶቹ', 'የሚመገቡት', 'ምግብ', 'ያስፈልጋል', 'የማገዶ', 'እንጨትም', 'ሳያስፈልጋቸው', 'አይቀርም', 'ከአንድ', 'ሚሊዮን', 'የእንስሳት', 'ዝርያዎችን', 'ያውም', 'ጥንድ', 'ጥንድ', 'ሆነው', 'አንዳንዶቹ', 'እንዲያውም', 'ሰባት', 'ሰባት', 'ጥንዶች', 'ናቸው', 'እለት', 'ተእለት', 'መመገቡና', 'ቆሻሻን', 'ማስወገዱ', 'በስምንት', 'ሰዎች', 'ጨርሶ', 'የሚቻል', 'አይሆንም', 'በዚያ', 'የእንስሳቶቹ', 'ምግብ', 'ሊበሰብስ', 'ይችላል', 'ነገሩን', 'የባሰ', 'አስከፊ', 'የሚያደርገው', 'አንዳንድ', 'ጥገኛ', 'ተዋህስያን', 'ከሚመርጧቸው', 'እንስሳት', 'ሰውነት'], tags=[615])"
      ]
     },
     "execution_count": 7,
     "metadata": {},
     "output_type": "execute_result"
    }
   ],
   "source": [
    "tagged_documents[123]"
   ]
  },
  {
   "cell_type": "code",
   "execution_count": 8,
   "id": "99783856",
   "metadata": {
    "execution": {
     "iopub.execute_input": "2025-01-16T20:28:30.515063Z",
     "iopub.status.busy": "2025-01-16T20:28:30.514661Z",
     "iopub.status.idle": "2025-01-16T20:28:32.798484Z",
     "shell.execute_reply": "2025-01-16T20:28:32.797539Z"
    },
    "papermill": {
     "duration": 2.290908,
     "end_time": "2025-01-16T20:28:32.800014",
     "exception": false,
     "start_time": "2025-01-16T20:28:30.509106",
     "status": "completed"
    },
    "tags": []
   },
   "outputs": [
    {
     "data": {
      "text/plain": [
       "0"
      ]
     },
     "execution_count": 8,
     "metadata": {},
     "output_type": "execute_result"
    }
   ],
   "source": [
    "import gc\n",
    "\n",
    "del documents\n",
    "gc.collect()"
   ]
  },
  {
   "cell_type": "markdown",
   "id": "e97ce322",
   "metadata": {
    "papermill": {
     "duration": 0.004247,
     "end_time": "2025-01-16T20:28:32.809204",
     "exception": false,
     "start_time": "2025-01-16T20:28:32.804957",
     "status": "completed"
    },
    "tags": []
   },
   "source": [
    "# Train the model "
   ]
  },
  {
   "cell_type": "code",
   "execution_count": 9,
   "id": "60436cec",
   "metadata": {
    "execution": {
     "iopub.execute_input": "2025-01-16T20:28:32.819850Z",
     "iopub.status.busy": "2025-01-16T20:28:32.819407Z",
     "iopub.status.idle": "2025-01-16T20:28:32.823932Z",
     "shell.execute_reply": "2025-01-16T20:28:32.822836Z"
    },
    "papermill": {
     "duration": 0.011845,
     "end_time": "2025-01-16T20:28:32.825637",
     "exception": false,
     "start_time": "2025-01-16T20:28:32.813792",
     "status": "completed"
    },
    "tags": []
   },
   "outputs": [],
   "source": [
    "from gensim.models.doc2vec import Doc2Vec"
   ]
  },
  {
   "cell_type": "code",
   "execution_count": 10,
   "id": "201ed70e",
   "metadata": {
    "execution": {
     "iopub.execute_input": "2025-01-16T20:28:32.836359Z",
     "iopub.status.busy": "2025-01-16T20:28:32.836019Z",
     "iopub.status.idle": "2025-01-16T20:28:32.843684Z",
     "shell.execute_reply": "2025-01-16T20:28:32.842793Z"
    },
    "papermill": {
     "duration": 0.014915,
     "end_time": "2025-01-16T20:28:32.845421",
     "exception": false,
     "start_time": "2025-01-16T20:28:32.830506",
     "status": "completed"
    },
    "tags": []
   },
   "outputs": [],
   "source": [
    "model = Doc2Vec (vector_size = 100, window = 5, min_count = 5, workers = 8, epochs = 20, alpha = 0.03, min_alpha = 0.002)"
   ]
  },
  {
   "cell_type": "code",
   "execution_count": 11,
   "id": "f3559a4e",
   "metadata": {
    "execution": {
     "iopub.execute_input": "2025-01-16T20:28:32.856283Z",
     "iopub.status.busy": "2025-01-16T20:28:32.855950Z",
     "iopub.status.idle": "2025-01-16T20:29:16.905181Z",
     "shell.execute_reply": "2025-01-16T20:29:16.904035Z"
    },
    "papermill": {
     "duration": 44.057181,
     "end_time": "2025-01-16T20:29:16.907433",
     "exception": false,
     "start_time": "2025-01-16T20:28:32.850252",
     "status": "completed"
    },
    "tags": []
   },
   "outputs": [],
   "source": [
    "model.build_vocab(tagged_documents)"
   ]
  },
  {
   "cell_type": "code",
   "execution_count": 12,
   "id": "e750c12a",
   "metadata": {
    "execution": {
     "iopub.execute_input": "2025-01-16T20:29:16.918888Z",
     "iopub.status.busy": "2025-01-16T20:29:16.918418Z",
     "iopub.status.idle": "2025-01-16T20:29:16.925605Z",
     "shell.execute_reply": "2025-01-16T20:29:16.924116Z"
    },
    "papermill": {
     "duration": 0.015097,
     "end_time": "2025-01-16T20:29:16.927619",
     "exception": false,
     "start_time": "2025-01-16T20:29:16.912522",
     "status": "completed"
    },
    "tags": []
   },
   "outputs": [
    {
     "data": {
      "text/plain": [
       "699085"
      ]
     },
     "execution_count": 12,
     "metadata": {},
     "output_type": "execute_result"
    }
   ],
   "source": [
    "model.corpus_count"
   ]
  },
  {
   "cell_type": "code",
   "execution_count": 13,
   "id": "405cec7f",
   "metadata": {
    "execution": {
     "iopub.execute_input": "2025-01-16T20:29:16.939199Z",
     "iopub.status.busy": "2025-01-16T20:29:16.938824Z",
     "iopub.status.idle": "2025-01-16T21:48:54.000498Z",
     "shell.execute_reply": "2025-01-16T21:48:53.999197Z"
    },
    "papermill": {
     "duration": 4777.06996,
     "end_time": "2025-01-16T21:48:54.002845",
     "exception": false,
     "start_time": "2025-01-16T20:29:16.932885",
     "status": "completed"
    },
    "tags": []
   },
   "outputs": [],
   "source": [
    "model.train(tagged_documents, total_examples = model.corpus_count, epochs = model.epochs)"
   ]
  },
  {
   "cell_type": "markdown",
   "id": "0f41df22",
   "metadata": {
    "papermill": {
     "duration": 0.004503,
     "end_time": "2025-01-16T21:48:54.012945",
     "exception": false,
     "start_time": "2025-01-16T21:48:54.008442",
     "status": "completed"
    },
    "tags": []
   },
   "source": [
    "# Save the model"
   ]
  },
  {
   "cell_type": "code",
   "execution_count": 14,
   "id": "6dcf99de",
   "metadata": {
    "execution": {
     "iopub.execute_input": "2025-01-16T21:48:54.024126Z",
     "iopub.status.busy": "2025-01-16T21:48:54.023761Z",
     "iopub.status.idle": "2025-01-16T21:48:56.451176Z",
     "shell.execute_reply": "2025-01-16T21:48:56.449803Z"
    },
    "papermill": {
     "duration": 2.435688,
     "end_time": "2025-01-16T21:48:56.453239",
     "exception": false,
     "start_time": "2025-01-16T21:48:54.017551",
     "status": "completed"
    },
    "tags": []
   },
   "outputs": [],
   "source": [
    "import os\n",
    "\n",
    "model_dir = \"models\"\n",
    "model_path = os.path.join(model_dir, \"doc2vec_am.bin\")\n",
    "\n",
    "os.makedirs(model_dir, exist_ok=True)\n",
    "\n",
    "model.save(model_path)\n"
   ]
  }
 ],
 "metadata": {
  "kaggle": {
   "accelerator": "none",
   "dataSources": [
    {
     "sourceId": 217959435,
     "sourceType": "kernelVersion"
    }
   ],
   "dockerImageVersionId": 30839,
   "isGpuEnabled": false,
   "isInternetEnabled": false,
   "language": "python",
   "sourceType": "notebook"
  },
  "kernelspec": {
   "display_name": "Python 3",
   "language": "python",
   "name": "python3"
  },
  "language_info": {
   "codemirror_mode": {
    "name": "ipython",
    "version": 3
   },
   "file_extension": ".py",
   "mimetype": "text/x-python",
   "name": "python",
   "nbconvert_exporter": "python",
   "pygments_lexer": "ipython3",
   "version": "3.10.16"
  },
  "papermill": {
   "default_parameters": {},
   "duration": 4938.609704,
   "end_time": "2025-01-16T21:49:00.189287",
   "environment_variables": {},
   "exception": null,
   "input_path": "__notebook__.ipynb",
   "output_path": "__notebook__.ipynb",
   "parameters": {},
   "start_time": "2025-01-16T20:26:41.579583",
   "version": "2.6.0"
  }
 },
 "nbformat": 4,
 "nbformat_minor": 5
}
